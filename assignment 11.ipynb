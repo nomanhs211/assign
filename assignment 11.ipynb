{
 "cells": [
  {
   "cell_type": "code",
   "execution_count": 26,
   "metadata": {},
   "outputs": [
    {
     "name": "stdout",
     "output_type": "stream",
     "text": [
      "1. Hobbies?\n",
      "['a) Cricket', 'b) football', 'c) Hockey', 'd) Tennis']a\n",
      "Correct answer\n",
      "\n",
      "2. Type of Mobile?\n",
      "['a) Samsung', 'b) Infinix', 'c) Oppo', 'd) Nokia']b\n",
      "Correct answer\n",
      "\n",
      "3. color of Orange?\n",
      "['a) Blue', 'b) Black', 'c) Red', 'd) Green']c\n",
      "Correct answer\n",
      "\n",
      "4. Color of Van?\n",
      "['a) Black', 'b) Blue', 'c) White', 'd) Red']d\n",
      "Wrong answer\n",
      "\n",
      "5. Your Education?\n",
      "['a)Matric ', 'b) Intermediate', 'c) Graduation', 'd) Masters']d\n",
      "Correct answer\n",
      "\n"
     ]
    }
   ],
   "source": [
    "dic = [\n",
    "        \n",
    "        {\n",
    "            \"Q.\" : \"1. Hobbies?\", \n",
    "            \"Opt\" : [\"a) Cricket\", \"b) football\", \"c) Hockey\", \"d) Tennis\"],\n",
    "            \"Ans\" : \"a\"\n",
    "        },\n",
    "        {\n",
    "            \"Q.\" : \"2. Type of Mobile?\", \n",
    "            \"Opt\" : [\"a) Samsung\", \"b) Infinix\", \"c) Oppo\", \"d) Nokia\"],\n",
    "            \"Ans\" : \"b\"\n",
    "        },\n",
    "        {\n",
    "            \"Q.\" : \"3. color of Orange?\", \n",
    "            \"Opt\" : [\"a) Blue\", \"b) Black\", \"c) Red\", \"d) Green\"],\n",
    "            \"Ans\" : \"c\"\n",
    "        },\n",
    "        {\n",
    "            \"Q.\" : \"4. Color of Van?\", \n",
    "            \"Opt\" : [\"a) Black\", \"b) Blue\", \"c) White\", \"d) Red\"],\n",
    "            \"Ans\" : \"a\"\n",
    "        },\n",
    "        {\n",
    "            \"Q.\" : \"5. Your Education?\", \n",
    "            \"Opt\" : [\"a)Matric \", \"b) Intermediate\", \"c) Graduation\", \"d) Masters\"],\n",
    "            \"Ans\" : \"d\"\n",
    "        },   \n",
    "\n",
    "       ]\n",
    "\n",
    "\n",
    "l  = 0\n",
    "for quiz in dic:\n",
    "    print(quiz[\"Q.\"])\n",
    "    answer = input(quiz[\"Opt\"])\n",
    "    \n",
    "    if answer == dic[l][\"Ans\"]:\n",
    "        print(\"Correct answer\\n\")\n",
    "    else:\n",
    "        print(\"Wrong answer\\n\")\n",
    "    l = l+1\n",
    "\n",
    "      \n",
    "  \n"
   ]
  },
  {
   "cell_type": "code",
   "execution_count": null,
   "metadata": {},
   "outputs": [],
   "source": []
  }
 ],
 "metadata": {
  "kernelspec": {
   "display_name": "Python 3",
   "language": "python",
   "name": "python3"
  },
  "language_info": {
   "codemirror_mode": {
    "name": "ipython",
    "version": 3
   },
   "file_extension": ".py",
   "mimetype": "text/x-python",
   "name": "python",
   "nbconvert_exporter": "python",
   "pygments_lexer": "ipython3",
   "version": "3.7.6"
  }
 },
 "nbformat": 4,
 "nbformat_minor": 4
}
